{
  "cells": [
    {
      "cell_type": "markdown",
      "metadata": {
        "id": "wq4qHpmbwPd1"
      },
      "source": [
        "# Classifying Galaxies"
      ]
    },
    {
      "cell_type": "code",
      "execution_count": 4,
      "metadata": {
        "code_folding": [
          11
        ],
        "id": "Kpqv8Y8IwPd2"
      },
      "outputs": [],
      "source": [
        "import numpy as np\n",
        "import jax.numpy as jnp\n",
        "from jax import jit\n",
        "import  jax\n",
        "import matplotlib.pyplot as plt\n",
        "import math\n",
        "from matplotlib.animation import FuncAnimation\n",
        "import itertools\n",
        "from IPython.display import HTML\n",
        "import pickle\n",
        "import datetime;datetime.datetime.now()\n",
        "def resetMe(keepList=[]):\n",
        "    ll=%who_ls\n",
        "    keepList=keepList+['resetMe','np','plt','math','FuncAnimation',\n",
        "                       'HTML','itertools','pickle','testFunc','jnp','jax','jit']\n",
        "    for iiii in keepList:\n",
        "        if iiii in ll:\n",
        "            ll.remove(iiii)\n",
        "    for iiii in ll:\n",
        "        jjjj=\"^\"+iiii+\"$\"\n",
        "        %reset_selective -f {jjjj}\n",
        "    ll=%who_ls\n",
        "    return"
      ]
    },
    {
      "cell_type": "markdown",
      "metadata": {
        "id": "3r-eXbNIwPd5"
      },
      "source": [
        "Goal: 66% accuracy"
      ]
    },
    {
      "cell_type": "markdown",
      "metadata": {
        "id": "JlvB1ZanwPd5"
      },
      "source": [
        "Read data from UIUC PHYS 246 dataset"
      ]
    },
    {
      "cell_type": "code",
      "execution_count": 7,
      "metadata": {
        "colab": {
          "base_uri": "https://localhost:8080/"
        },
        "id": "fwlb3pG2wPd5",
        "outputId": "49900684-8ccf-48d4-c1bf-31955dd9cc4e"
      },
      "outputs": [
        {
          "data": {
            "text/plain": [
              "('dataG.pkl.gz', <http.client.HTTPMessage at 0x23f8b6355b0>)"
            ]
          },
          "execution_count": 7,
          "metadata": {},
          "output_type": "execute_result"
        }
      ],
      "source": [
        "import urllib.request\n",
        "url = \"https://courses.physics.illinois.edu/phys246/fa2020/code/dataG.pkl.gz\"\n",
        "filename = \"dataG.pkl.gz\"\n",
        "urllib.request.urlretrieve(url, filename)"
      ]
    },
    {
      "cell_type": "markdown",
      "metadata": {
        "id": "2l4C_8T9wPd6"
      },
      "source": [
        "Unpack with gzip"
      ]
    },
    {
      "cell_type": "code",
      "execution_count": 8,
      "metadata": {
        "colab": {
          "base_uri": "https://localhost:8080/"
        },
        "id": "s0-IYHnRwPd6",
        "outputId": "3acff99c-d354-4cd4-8574-3feb17fe22e9"
      },
      "outputs": [
        {
          "name": "stdout",
          "output_type": "stream",
          "text": [
            "CPU times: total: 2.48 s\n",
            "Wall time: 2.55 s\n"
          ]
        }
      ],
      "source": [
        "%%time\n",
        "import gzip\n",
        "(train_images_raw,train_labels,test_images_raw,test_labels) = pickle.load(gzip.open(\"dataG.pkl.gz\",'rb'))"
      ]
    },
    {
      "cell_type": "markdown",
      "metadata": {
        "id": "zva981TkwPd6"
      },
      "source": [
        "* `train_images_raw` - images in the training set, shape: (17457, 69, 69, 1)\n",
        "* `train_labels`     - labels that explain the image classification for the training set\n",
        "* `test_images_raw`  - images for the test set, shape: (1940,69,69,1)\n",
        "* `test_labels`      - labels that explain the image classification for the test set"
      ]
    },
    {
      "cell_type": "markdown",
      "metadata": {
        "id": "qbnn0RmCwPd7"
      },
      "source": [
        "Original data has 3 channels--g,r,i bands--while this dataset has only 1 (g). This set also only includes a subset of labels.\n",
        "\n",
        "To use full data provided:\n",
        "```python\n",
        "!wget https://courses.physics.illinois.edu/phys246/fa2020/code/data.pkl.zip\n",
        "!unzip data.pkl.zip\n",
        "(train_images_raw,train_labels,test_images_raw,test_labels) = pickle.load(open(\"data.pkl\",'rb'))\n",
        "```\n",
        "\n",
        "and then change the reshape commands below"
      ]
    },
    {
      "cell_type": "markdown",
      "metadata": {
        "id": "Hf0-_lomwPd7"
      },
      "source": [
        "Plot galaxy images"
      ]
    },
    {
      "cell_type": "code",
      "execution_count": 9,
      "metadata": {
        "colab": {
          "base_uri": "https://localhost:8080/",
          "height": 454
        },
        "id": "ikTWgwXAwPd7",
        "outputId": "7d63f2c1-c95d-4153-fc50-613b845828c5"
      },
      "outputs": [
        {
          "data": {
            "text/plain": [
              "<matplotlib.image.AxesImage at 0x23f8b542360>"
            ]
          },
          "execution_count": 9,
          "metadata": {},
          "output_type": "execute_result"
        },
        {
          "data": {
            "image/png": "[encoded data removed]",
            "text/plain": [
              "<Figure size 480x480 with 1 Axes>"
            ]
          },
          "metadata": {},
          "output_type": "display_data"
        }
      ],
      "source": [
        "#plot me here!\n",
        "plt.matshow(train_images_raw[0][:,:,0])"
      ]
    },
    {
      "cell_type": "markdown",
      "metadata": {
        "id": "DytBYmBSwPd8"
      },
      "source": [
        "See correct label for this galaxy"
      ]
    },
    {
      "cell_type": "code",
      "execution_count": 10,
      "metadata": {
        "colab": {
          "base_uri": "https://localhost:8080/"
        },
        "id": "6o3RhRdgwPd8",
        "outputId": "c441d076-a17d-4ced-f00e-358bda94a0db"
      },
      "outputs": [
        {
          "name": "stdout",
          "output_type": "stream",
          "text": [
            "[0. 0. 1. 0. 0.]\n"
          ]
        }
      ],
      "source": [
        "## print out the label\n",
        "print(train_labels[0])"
      ]
    },
    {
      "cell_type": "markdown",
      "metadata": {
        "id": "VGp3pNa9wPd8"
      },
      "source": [
        "`1` in the second place: smooth completely round galaxy. (ordering is [here](https://astronn.readthedocs.io/en/latest/galaxy10.html)).\n",
        "\n",
        "```\n",
        "Galaxy10 dataset (25753 images)\n",
        "├── *0* Class 0 (3461 images): Disk, Face-on, No Spiral\n",
        "├── *1* Class 1 (6997 images): Smooth, Completely round\n",
        "├── *2* Class 2 (6292 images): Smooth, in-between round\n",
        "├── Class 3 (394 images): Smooth, Cigar shaped\n",
        "├── *3* Class 4 (3060 images): Disk, Edge-on, Rounded Bulge\n",
        "├── Class 5 (17 images): Disk, Edge-on, Boxy Bulge\n",
        "├── Class 6 (1089 images): Disk, Edge-on, No Bulge\n",
        "├── *4* Class 7 (1932 images): Disk, Face-on, Tight Spiral\n",
        "├── Class 8 (1466 images): Disk, Face-on, Medium Spiral\n",
        "└── Class 9 (1045 images): Disk, Face-on, Loose Spiral\n",
        "```\n",
        "![Galaxy10 dataset](https://astronn.readthedocs.io/en/latest/_images/galaxy10_example.png)"
      ]
    },
    {
      "cell_type": "markdown",
      "metadata": {
        "id": "0KO0B-egwPd8"
      },
      "source": [
        "Using 5 sets, which are indicated with the `*#*`"
      ]
    },
    {
      "cell_type": "markdown",
      "metadata": {
        "id": "m9kUxelPwPd8"
      },
      "source": [
        "Display image and label for image 98, should be a disk galaxy"
      ]
    },
    {
      "cell_type": "code",
      "execution_count": 11,
      "metadata": {
        "colab": {
          "base_uri": "https://localhost:8080/",
          "height": 454
        },
        "id": "A-2yfrYzwPd8",
        "outputId": "5c8879dc-145f-4361-9b79-ec0c36b599f8"
      },
      "outputs": [
        {
          "name": "stdout",
          "output_type": "stream",
          "text": [
            "[1. 0. 0. 0. 0.]\n"
          ]
        },
        {
          "data": {
            "image/png": "[encoded data removed]",
            "text/plain": [
              "<Figure size 480x480 with 1 Axes>"
            ]
          },
          "metadata": {},
          "output_type": "display_data"
        }
      ],
      "source": [
        "plt.matshow(train_images_raw[98][:,:,0])\n",
        "print(train_labels[98])"
      ]
    },
    {
      "cell_type": "markdown",
      "metadata": {
        "id": "I4Onlhq0wPd9"
      },
      "source": [
        "Check data shape"
      ]
    },
    {
      "cell_type": "code",
      "execution_count": 12,
      "metadata": {
        "colab": {
          "base_uri": "https://localhost:8080/"
        },
        "id": "hwR_Lu6LwPd9",
        "outputId": "8c43817c-2c73-47f2-bb25-1a27df07bab8"
      },
      "outputs": [
        {
          "name": "stdout",
          "output_type": "stream",
          "text": [
            "(17457, 69, 69, 1)\n"
          ]
        }
      ],
      "source": [
        "print(np.shape(train_images_raw))"
      ]
    },
    {
      "cell_type": "markdown",
      "metadata": {
        "id": "wWghmoG-wPd9"
      },
      "source": [
        "We have 17457 images.  Each image is a $69 \\times 69 \\times 1$ image.  We are going to give these pictures as inputs to our neural network.  It will be easier to give them a big $69 \\times 69 \\times 1$ vector then a tensor like this.  Therefore, we will reshape our data and normalize it (divide all vectors by 256)."
      ]
    },
    {
      "cell_type": "code",
      "execution_count": 14,
      "metadata": {
        "id": "ZlIYcMK_wPd9"
      },
      "outputs": [],
      "source": [
        "train_images = train_images_raw.reshape(len(train_images_raw),69*69*1)/256.\n",
        "test_images = test_images_raw.reshape(len(test_images_raw),69*69*1)/256."
      ]
    },
    {
      "cell_type": "markdown",
      "metadata": {
        "id": "3Ml8Mj66wPd9"
      },
      "source": [
        "### Neural Network"
      ]
    },
    {
      "cell_type": "markdown",
      "metadata": {
        "id": "kixybPtCgMVq"
      },
      "source": [
        "Note: jax.numpy necessary instead of numpy for gradient descent calculations."
      ]
    },
    {
      "cell_type": "markdown",
      "metadata": {
        "id": "HywK-fe3wPd9"
      },
      "source": [
        "Neural network, taking in input image and outputting size-5 vector: \n",
        "\n",
        "The equation for how to do this is\n",
        " $v_{out} = 1.0/(1+\\exp(-(W_2 \\textrm{tanh}(W_1 v_{in} + b_1) +b_2))$\n",
        "where\n",
        "* W1 is a size d x 4761 matrix\n",
        "* W2 is a size 5 x d matrix\n",
        "* b1 is a size d vector\n",
        "* b2 is a size 5 vector\n",
        "\n",
        "The last term: $1/(1+e^{-x})$ ensures that all the numbers in $v_{out}$ are between 0 and 1.\n",
        "\n",
        "To make this function work in parallel on multiple $v_{in}$'s simultaneously, we will supply them as a large matrix $V_{in}$ (of size ```(17457, 4761)```) and transpose accordingly for valid matrix multiplication:\n",
        "\n",
        "$$ v_{out} = \\left(1+\\exp\\left[-\\left(\\left[W_2 \\cdot \\mathrm{tanh}(W_1 \\cdot V_{in}^\\top + b_1)^\\top\\right]^\\top +b_2\\right)^\\top\\right]\\right)^{-1} $$\n",
        "\n",
        "Function\n",
        "```python\n",
        "def net(params,imageVector):\n",
        "   # W1=params[0]\n",
        "   # b1=params[1]\n",
        "   # W2= params[2]\n",
        "   # b2 = params[3]\n",
        "   # return output\n",
        "```\n",
        "where params is a list that contains these parameters and imageVector is one of our reshaped images.\n",
        "\n",
        "\n",
        "Using d = 100, we will generate random parameters.\n"
      ]
    },
    {
      "cell_type": "code",
      "execution_count": 16,
      "metadata": {
        "colab": {
          "base_uri": "https://localhost:8080/"
        },
        "id": "YeZuMDthwPd9",
        "outputId": "2d48847f-fad0-48be-d255-8a367a7c3b17"
      },
      "outputs": [
        {
          "name": "stdout",
          "output_type": "stream",
          "text": [
            "Spot 4\n"
          ]
        }
      ],
      "source": [
        "params = dict()\n",
        "d = 100\n",
        "params[0] = 0.1 * np.random.randn(d, 4761)\n",
        "params[1] = 0.1 * np.random.randn(d)\n",
        "params[2] = 0.1 * np.random.randn(5, d)\n",
        "params[3] = 0.1 * np.random.randn(5)\n",
        "\n",
        "def net(params, imageVector):\n",
        "  W1 = params[0]\n",
        "  b1 = params[1]\n",
        "  W2 = params[2]\n",
        "  b2 = params[3]\n",
        "  return 1 / (1 + jnp.exp(-(jnp.dot(W2, jnp.tanh(jnp.dot(W1, imageVector) + b1)) + b2)))\n",
        "\n",
        "outputVector = net(params, train_images[3])\n",
        "print(f\"Spot {jnp.argmax(outputVector)}\")"
      ]
    },
    {
      "cell_type": "markdown",
      "metadata": {
        "id": "jzW1evXjwPd-"
      },
      "source": [
        "### c. A measure of goodness"
      ]
    },
    {
      "cell_type": "markdown",
      "metadata": {
        "id": "5H8AEOvJwPd-"
      },
      "source": [
        "To quantify how good our neural network is, we will use two things:\n",
        "\n",
        "(1) **Cross-entropy**\n",
        "\n",
        "$$ \\sum_i -y_i \\log(a_i) - (1-y_i)\\log(1-a_i)$$\n",
        "\n",
        "where $y_i$ is the $i'$th component of the exact label and $a_i$ is the $i'$th component of the label you get as output from the neural network.  \n",
        "\n",
        "We will take our parameters, image vector, and run the network to get our output. We will then check the cross entropy and try to minimize it.\n"
      ]
    },
    {
      "cell_type": "code",
      "execution_count": 34,
      "metadata": {
        "colab": {
          "base_uri": "https://localhost:8080/"
        },
        "id": "sWJpgTXJwPd-",
        "outputId": "5e0656af-703d-4775-be0c-4bbfee8222d0"
      },
      "outputs": [
        {
          "name": "stdout",
          "output_type": "stream",
          "text": [
            "Cross entropy: 2.756551742553711\n"
          ]
        }
      ],
      "source": [
        "def loss(params, imageVector, correctLabel):\n",
        "  a = net(params, imageVector)\n",
        "  sum = 0\n",
        "  for i in range(len(correctLabel)):\n",
        "    sum += -correctLabel[i] * jnp.log(a[i]) - (1 - correctLabel[i]) * jnp.log(1 - a[i])\n",
        "  return sum\n",
        "\n",
        "print(f\"Cross entropy: {loss(params, train_images[3], train_labels[3])}\")"
      ]
    },
    {
      "cell_type": "markdown",
      "metadata": {
        "id": "gSxIGrRvwPd_"
      },
      "source": [
        "(2) **\"Winning\" Classification**\n",
        "We will say that the label is correct if in our length 10 vector, the maximum value is where the 1 should be. We will calculate the fraction of labels we got correct."
      ]
    },
    {
      "cell_type": "code",
      "execution_count": 35,
      "metadata": {
        "colab": {
          "base_uri": "https://localhost:8080/"
        },
        "id": "qxn3D-0-wPd_",
        "outputId": "478ecfba-a5dc-4f27-918f-1711d1f3a82c"
      },
      "outputs": [
        {
          "name": "stdout",
          "output_type": "stream",
          "text": [
            "Fraction correct on test set: 0.05646817248459959\n"
          ]
        }
      ],
      "source": [
        "def fractionCorrect(params, images, labels):\n",
        "    correct = 0\n",
        "    for i in range(len(images)):\n",
        "        outputVector = net(params, images[i])\n",
        "        if jnp.argmax(outputVector) == jnp.argmax(labels[i]):\n",
        "            correct += 1\n",
        "    return correct / len(images)\n",
        "\n",
        "print(f\"Fraction correct on test set: {fractionCorrect(params, test_images, test_labels)}\")\n"
      ]
    },
    {
      "cell_type": "markdown",
      "metadata": {
        "id": "Wv0ADwMKwPd_"
      },
      "source": [
        "### Classification"
      ]
    },
    {
      "cell_type": "markdown",
      "metadata": {
        "id": "kIMzrKFqwPd_"
      },
      "source": [
        "Training loop:\n",
        "* choose random image in the **training** set.\n",
        "* compute gradient\n",
        "* change the parameters by 0.1% of the gradient (lr=0.001)\n",
        "\n",
        "Will plot accuracy as a function of step for 50\\*2000."
      ]
    },
    {
      "cell_type": "code",
      "execution_count": 47,
      "metadata": {
        "colab": {
          "base_uri": "https://localhost:8080/",
          "height": 478
        },
        "id": "bI3GO_EWwPd_",
        "outputId": "dd8eded9-59f7-4423-a81c-8d97cfab348b",
        "scrolled": true
      },
      "outputs": [
        {
          "name": "stdout",
          "output_type": "stream",
          "text": [
            "Iteration 0\n",
            "Fraction correct on test set: 0.7320328542094456\n",
            "Iteration 1000\n",
            "Fraction correct on test set: 0.7366529774127311\n",
            "Iteration 2000\n",
            "Fraction correct on test set: 0.7263860369609856\n",
            "Iteration 3000\n",
            "Fraction correct on test set: 0.7392197125256673\n",
            "Iteration 4000\n",
            "Fraction correct on test set: 0.7284394250513347\n",
            "Iteration 5000\n",
            "Fraction correct on test set: 0.7464065708418891\n",
            "Iteration 6000\n",
            "Fraction correct on test set: 0.7397330595482546\n",
            "Iteration 7000\n",
            "Fraction correct on test set: 0.74435318275154\n",
            "Iteration 8000\n",
            "Fraction correct on test set: 0.7325462012320328\n",
            "Iteration 9000\n",
            "Fraction correct on test set: 0.7268993839835729\n",
            "Iteration 10000\n",
            "Fraction correct on test set: 0.7284394250513347\n",
            "Iteration 11000\n",
            "Fraction correct on test set: 0.7263860369609856\n",
            "Iteration 12000\n",
            "Fraction correct on test set: 0.747946611909651\n",
            "Iteration 13000\n",
            "Fraction correct on test set: 0.7397330595482546\n",
            "Iteration 14000\n",
            "Fraction correct on test set: 0.7335728952772074\n",
            "Iteration 15000\n",
            "Fraction correct on test set: 0.7525667351129364\n",
            "Iteration 16000\n",
            "Fraction correct on test set: 0.7356262833675564\n",
            "Iteration 17000\n",
            "Fraction correct on test set: 0.7351129363449692\n",
            "Iteration 18000\n",
            "Fraction correct on test set: 0.7417864476386037\n",
            "Iteration 19000\n",
            "Fraction correct on test set: 0.7469199178644764\n",
            "Iteration 20000\n",
            "Fraction correct on test set: 0.7376796714579056\n",
            "Iteration 21000\n",
            "Fraction correct on test set: 0.7351129363449692\n",
            "Iteration 22000\n",
            "Fraction correct on test set: 0.7299794661190965\n",
            "Iteration 23000\n",
            "Fraction correct on test set: 0.7279260780287474\n",
            "Iteration 24000\n",
            "Fraction correct on test set: 0.7417864476386037\n",
            "Iteration 25000\n",
            "Fraction correct on test set: 0.7356262833675564\n",
            "Iteration 26000\n",
            "Fraction correct on test set: 0.7392197125256673\n",
            "Iteration 27000\n",
            "Fraction correct on test set: 0.7402464065708418\n",
            "Iteration 28000\n",
            "Fraction correct on test set: 0.728952772073922\n",
            "Iteration 29000\n",
            "Fraction correct on test set: 0.7335728952772074\n",
            "Iteration 30000\n",
            "Fraction correct on test set: 0.7258726899383984\n",
            "Iteration 31000\n",
            "Fraction correct on test set: 0.7464065708418891\n",
            "Iteration 32000\n",
            "Fraction correct on test set: 0.7274127310061602\n",
            "Iteration 33000\n",
            "Fraction correct on test set: 0.7387063655030801\n",
            "Iteration 34000\n",
            "Fraction correct on test set: 0.7392197125256673\n",
            "Iteration 35000\n",
            "Fraction correct on test set: 0.7248459958932238\n",
            "Iteration 36000\n",
            "Fraction correct on test set: 0.7417864476386037\n",
            "Iteration 37000\n",
            "Fraction correct on test set: 0.7376796714579056\n",
            "Iteration 38000\n",
            "Fraction correct on test set: 0.7397330595482546\n",
            "Iteration 39000\n",
            "Fraction correct on test set: 0.7412731006160165\n",
            "Iteration 40000\n",
            "Fraction correct on test set: 0.7376796714579056\n",
            "Iteration 41000\n",
            "Fraction correct on test set: 0.7248459958932238\n",
            "Iteration 42000\n",
            "Fraction correct on test set: 0.7294661190965093\n",
            "Iteration 43000\n",
            "Fraction correct on test set: 0.7381930184804928\n",
            "Iteration 44000\n",
            "Fraction correct on test set: 0.7412731006160165\n",
            "Iteration 45000\n",
            "Fraction correct on test set: 0.7438398357289527\n",
            "Iteration 46000\n",
            "Fraction correct on test set: 0.7304928131416838\n",
            "Iteration 47000\n",
            "Fraction correct on test set: 0.7263860369609856\n",
            "Iteration 48000\n",
            "Fraction correct on test set: 0.7325462012320328\n",
            "Iteration 49000\n",
            "Fraction correct on test set: 0.7315195071868583\n",
            "Iteration 50000\n",
            "Fraction correct on test set: 0.7356262833675564\n",
            "Iteration 51000\n",
            "Fraction correct on test set: 0.74435318275154\n",
            "Iteration 52000\n",
            "Fraction correct on test set: 0.7438398357289527\n",
            "Iteration 53000\n",
            "Fraction correct on test set: 0.7489733059548255\n",
            "Iteration 54000\n",
            "Fraction correct on test set: 0.7366529774127311\n",
            "Iteration 55000\n",
            "Fraction correct on test set: 0.7412731006160165\n",
            "Iteration 56000\n",
            "Fraction correct on test set: 0.7202258726899384\n",
            "Iteration 57000\n",
            "Fraction correct on test set: 0.7417864476386037\n",
            "Iteration 58000\n",
            "Fraction correct on test set: 0.7361396303901437\n",
            "Iteration 59000\n",
            "Fraction correct on test set: 0.7335728952772074\n",
            "Iteration 60000\n",
            "Fraction correct on test set: 0.7284394250513347\n",
            "Iteration 61000\n",
            "Fraction correct on test set: 0.7453798767967146\n",
            "Iteration 62000\n",
            "Fraction correct on test set: 0.7428131416837782\n",
            "Iteration 63000\n",
            "Fraction correct on test set: 0.7433264887063655\n",
            "Iteration 64000\n",
            "Fraction correct on test set: 0.7474332648870636\n",
            "Iteration 65000\n",
            "Fraction correct on test set: 0.7453798767967146\n",
            "Iteration 66000\n",
            "Fraction correct on test set: 0.7381930184804928\n",
            "Iteration 67000\n",
            "Fraction correct on test set: 0.7351129363449692\n",
            "Iteration 68000\n",
            "Fraction correct on test set: 0.7433264887063655\n",
            "Iteration 69000\n",
            "Fraction correct on test set: 0.7351129363449692\n",
            "Iteration 70000\n",
            "Fraction correct on test set: 0.7448665297741273\n",
            "Iteration 71000\n",
            "Fraction correct on test set: 0.7361396303901437\n",
            "Iteration 72000\n",
            "Fraction correct on test set: 0.731006160164271\n",
            "Iteration 73000\n",
            "Fraction correct on test set: 0.7428131416837782\n",
            "Iteration 74000\n",
            "Fraction correct on test set: 0.7417864476386037\n",
            "Iteration 75000\n",
            "Fraction correct on test set: 0.74435318275154\n",
            "Iteration 76000\n",
            "Fraction correct on test set: 0.7387063655030801\n",
            "Iteration 77000\n",
            "Fraction correct on test set: 0.7397330595482546\n",
            "Iteration 78000\n",
            "Fraction correct on test set: 0.7381930184804928\n",
            "Iteration 79000\n",
            "Fraction correct on test set: 0.7263860369609856\n",
            "Iteration 80000\n",
            "Fraction correct on test set: 0.7433264887063655\n",
            "Iteration 81000\n",
            "Fraction correct on test set: 0.747946611909651\n",
            "Iteration 82000\n",
            "Fraction correct on test set: 0.7546201232032854\n",
            "Iteration 83000\n",
            "Fraction correct on test set: 0.731006160164271\n",
            "Iteration 84000\n",
            "Fraction correct on test set: 0.7299794661190965\n",
            "Iteration 85000\n",
            "Fraction correct on test set: 0.7546201232032854\n",
            "Iteration 86000\n",
            "Fraction correct on test set: 0.7433264887063655\n",
            "Iteration 87000\n",
            "Fraction correct on test set: 0.747946611909651\n",
            "Iteration 88000\n",
            "Fraction correct on test set: 0.7489733059548255\n",
            "Iteration 89000\n",
            "Fraction correct on test set: 0.747946611909651\n",
            "Iteration 90000\n",
            "Fraction correct on test set: 0.7397330595482546\n",
            "Iteration 91000\n",
            "Fraction correct on test set: 0.742299794661191\n",
            "Iteration 92000\n",
            "Fraction correct on test set: 0.7361396303901437\n",
            "Iteration 93000\n",
            "Fraction correct on test set: 0.7428131416837782\n",
            "Iteration 94000\n",
            "Fraction correct on test set: 0.7525667351129364\n",
            "Iteration 95000\n",
            "Fraction correct on test set: 0.7510266940451745\n",
            "Iteration 96000\n",
            "Fraction correct on test set: 0.7458932238193019\n",
            "Iteration 97000\n",
            "Fraction correct on test set: 0.7474332648870636\n",
            "Iteration 98000\n",
            "Fraction correct on test set: 0.7402464065708418\n",
            "Iteration 99000\n",
            "Fraction correct on test set: 0.7417864476386037\n"
          ]
        }
      ],
      "source": [
        "loss_grad = jit(jax.grad(loss))\n",
        "fraction_list = []\n",
        "\n",
        "for i in range(50 * 2000):\n",
        "    if i % 1000 == 0:\n",
        "        print(f\"Iteration {i}\")\n",
        "        fraction_list.append(fractionCorrect(params, test_images, test_labels))\n",
        "        print(f\"Fraction correct on test set: {fraction_list[-1]}\")\n",
        "    idx = np.random.randint(len(train_images))\n",
        "    grad = loss_grad(params, train_images[idx], train_labels[idx])\n",
        "    for j in range(len(params)):\n",
        "        params[j] -= 0.001 * grad[j]"
      ]
    },
    {
      "cell_type": "code",
      "execution_count": 48,
      "metadata": {
        "id": "CnRwJJR-_GFx"
      },
      "outputs": [
        {
          "data": {
            "image/png": "[encoded data removed]",
            "text/plain": [
              "<Figure size 640x480 with 1 Axes>"
            ]
          },
          "metadata": {},
          "output_type": "display_data"
        }
      ],
      "source": [
        "# Plot fraction list vs steps\n",
        "def plotFractionCorrectVsSteps(fractionList, steps):\n",
        "    plt.plot(steps, fractionList)\n",
        "    plt.xlabel(\"Steps\")\n",
        "    plt.ylabel(\"Fraction correct\")\n",
        "    plt.title(\"Fraction correct vs Steps\")\n",
        "    plt.grid()\n",
        "    plt.show()\n",
        "\n",
        "steps = np.arange(0, len(fraction_list) * 1000, 1000)\n",
        "plotFractionCorrectVsSteps(fraction_list, steps)"
      ]
    },
    {
      "cell_type": "markdown",
      "metadata": {
        "id": "rU2ni38cwPeA"
      },
      "source": [
        "Average gradient over ten images and step, then optimize with jax.vmap"
      ]
    },
    {
      "cell_type": "code",
      "execution_count": 52,
      "metadata": {},
      "outputs": [],
      "source": [
        "# This should be in a cell BEFORE cell 50\n",
        "# Make sure 'net' function is defined before this (e.g., cell 18).\n",
        "\n",
        "# Vectorize the network prediction function to operate on a batch of images\n",
        "batched_net = jax.vmap(net, in_axes=(None, 0)) # Pass params as is, map over images\n",
        "\n",
        "@jax.jit\n",
        "def fast_fractionCorrect(params_jax, images_jax, labels_jax):\n",
        "    predictions = batched_net(params_jax, images_jax)\n",
        "    predicted_classes = jnp.argmax(predictions, axis=1)\n",
        "    true_classes = jnp.argmax(labels_jax, axis=1)\n",
        "    return jnp.mean(predicted_classes == true_classes)"
      ]
    },
    {
      "cell_type": "code",
      "execution_count": 53,
      "metadata": {
        "colab": {
          "base_uri": "https://localhost:8080/",
          "height": 332
        },
        "id": "OQu5aohIwPeA",
        "outputId": "b85fd293-cac8-4fe1-927c-073057097b3c"
      },
      "outputs": [
        {
          "name": "stdout",
          "output_type": "stream",
          "text": [
            "Initial fraction correct on test set: 0.7577002048492432\n",
            "Iteration 0/20000, Fraction correct on test set: 0.7577002048492432\n",
            "Iteration 2000/20000, Fraction correct on test set: 0.7494866847991943\n",
            "Iteration 4000/20000, Fraction correct on test set: 0.7546201348304749\n",
            "Iteration 6000/20000, Fraction correct on test set: 0.7597536444664001\n",
            "Iteration 8000/20000, Fraction correct on test set: 0.7551335096359253\n",
            "Iteration 10000/20000, Fraction correct on test set: 0.7577002048492432\n",
            "Iteration 12000/20000, Fraction correct on test set: 0.7566735148429871\n",
            "Iteration 14000/20000, Fraction correct on test set: 0.7566735148429871\n",
            "Iteration 16000/20000, Fraction correct on test set: 0.7597536444664001\n",
            "Iteration 18000/20000, Fraction correct on test set: 0.7515400648117065\n",
            "Final fraction correct on test set: 0.7551335096359253\n"
          ]
        },
        {
          "data": {
            "image/png": "[encoded data removed]",
            "text/plain": [
              "<Figure size 1000x600 with 1 Axes>"
            ]
          },
          "metadata": {},
          "output_type": "display_data"
        }
      ],
      "source": [
        "# Ensure 'loss' function is defined (e.g., cell 20)\n",
        "# Ensure 'params' is a dictionary of JAX arrays (conversion after cell 18)\n",
        "# Ensure 'train_images', 'train_labels', 'test_images', 'test_labels' are JAX arrays (conversion after cell 14)\n",
        "# Ensure 'fast_fractionCorrect' is defined in a cell above this one.\n",
        "\n",
        "batch_loss_grad = jax.jit(jax.vmap(jax.grad(loss), in_axes=(None, 0, 0)))\n",
        "\n",
        "def compute_batch_gradients(params_jax, images_jax, labels_jax):\n",
        "    batched_grads_dict = batch_loss_grad(params_jax, images_jax, labels_jax)\n",
        "    mean_grads_dict = {\n",
        "        key: jnp.mean(grad_array, axis=0)\n",
        "        for key, grad_array in batched_grads_dict.items()\n",
        "    }\n",
        "    return mean_grads_dict\n",
        "\n",
        "fraction_list = []\n",
        "batch_size = 10 # You can experiment with larger batch sizes like 32 or 64\n",
        "\n",
        "# Initial accuracy check\n",
        "# Ensure params is the JAX version if you re-ran initialization\n",
        "initial_accuracy = float(fast_fractionCorrect(params, test_images, test_labels))\n",
        "print(f\"Initial fraction correct on test set: {initial_accuracy}\")\n",
        "\n",
        "num_epochs = 10 # Reduced for faster testing, original was 50\n",
        "iterations_per_epoch = 2000\n",
        "total_iterations = num_epochs * iterations_per_epoch\n",
        "\n",
        "for i in range(total_iterations):\n",
        "    # Create a batch of JAX arrays\n",
        "    indices = np.random.choice(train_images.shape[0], batch_size, replace=False)\n",
        "    batch_images = train_images[indices]\n",
        "    batch_labels = train_labels[indices]\n",
        "\n",
        "    gradients = compute_batch_gradients(params, batch_images, batch_labels)\n",
        "\n",
        "    # Update parameters (which are JAX arrays)\n",
        "    params[0] -= 0.001 * gradients[0]\n",
        "    params[1] -= 0.001 * gradients[1]\n",
        "    params[2] -= 0.001 * gradients[2]\n",
        "    params[3] -= 0.001 * gradients[3]\n",
        "\n",
        "    if i % iterations_per_epoch == 0: # Log accuracy every 'epoch'\n",
        "        current_accuracy = float(fast_fractionCorrect(params, test_images, test_labels))\n",
        "        fraction_list.append(current_accuracy)\n",
        "        print(f\"Iteration {i}/{total_iterations}, Fraction correct on test set: {current_accuracy}\")\n",
        "\n",
        "# Final accuracy check\n",
        "final_accuracy = float(fast_fractionCorrect(params, test_images, test_labels))\n",
        "print(f\"Final fraction correct on test set: {final_accuracy}\")\n",
        "if i % iterations_per_epoch != 0 : # Add last accuracy if not already added\n",
        "    fraction_list.append(final_accuracy)\n",
        "\n",
        "\n",
        "# Plotting\n",
        "# Adjust steps based on how often you record accuracy\n",
        "plot_steps = np.arange(0, total_iterations + 1, iterations_per_epoch)[:len(fraction_list)]\n",
        "\n",
        "\n",
        "plt.figure(figsize=(10, 6))\n",
        "plt.plot(plot_steps, fraction_list, marker='o', linestyle='-')\n",
        "plt.title(\"Accuracy on Test Set vs. Training Steps (Batched)\")\n",
        "plt.xlabel(\"Training Steps\")\n",
        "plt.ylabel(\"Fraction Correct\")\n",
        "plt.grid(True)\n",
        "plt.ylim(0, 1) # Optional: set y-axis limits for better comparison\n",
        "plt.show()"
      ]
    }
  ],
  "metadata": {
    "colab": {
      "provenance": [],
      "toc_visible": true
    },
    "kernelspec": {
      "display_name": "base",
      "language": "python",
      "name": "python3"
    },
    "language_info": {
      "codemirror_mode": {
        "name": "ipython",
        "version": 3
      },
      "file_extension": ".py",
      "mimetype": "text/x-python",
      "name": "python",
      "nbconvert_exporter": "python",
      "pygments_lexer": "ipython3",
      "version": "3.12.7"
    },
    "varInspector": {
      "cols": {
        "lenName": 16,
        "lenType": 16,
        "lenVar": 40
      },
      "kernels_config": {
        "python": {
          "delete_cmd_postfix": "",
          "delete_cmd_prefix": "del ",
          "library": "var_list.py",
          "varRefreshCmd": "print(var_dic_list())"
        },
        "r": {
          "delete_cmd_postfix": ") ",
          "delete_cmd_prefix": "rm(",
          "library": "var_list.r",
          "varRefreshCmd": "cat(var_dic_list()) "
        }
      },
      "types_to_exclude": [
        "module",
        "function",
        "builtin_function_or_method",
        "instance",
        "_Feature"
      ],
      "window_display": false
    }
  },
  "nbformat": 4,
  "nbformat_minor": 0
}
